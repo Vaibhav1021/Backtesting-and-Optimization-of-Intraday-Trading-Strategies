{
 "cells": [
  {
   "cell_type": "code",
   "execution_count": 1,
   "id": "19ae5862",
   "metadata": {},
   "outputs": [
    {
     "name": "stdout",
     "output_type": "stream",
     "text": [
      "Requirement already satisfied: pandas in c:\\users\\vaibhav\\anaconda3\\lib\\site-packages (1.5.3)\n",
      "Collecting pandas-ta\n",
      "  Using cached pandas_ta-0.3.14b.tar.gz (115 kB)\n",
      "  Preparing metadata (setup.py): started\n",
      "  Preparing metadata (setup.py): finished with status 'done'\n",
      "Collecting backtesting\n",
      "  Using cached Backtesting-0.3.3.tar.gz (175 kB)\n",
      "  Preparing metadata (setup.py): started\n",
      "  Preparing metadata (setup.py): finished with status 'done'\n",
      "Requirement already satisfied: matplotlib in c:\\users\\vaibhav\\anaconda3\\lib\\site-packages (3.7.1)\n",
      "Requirement already satisfied: python-dateutil>=2.8.1 in c:\\users\\vaibhav\\anaconda3\\lib\\site-packages (from pandas) (2.8.2)\n",
      "Requirement already satisfied: pytz>=2020.1 in c:\\users\\vaibhav\\anaconda3\\lib\\site-packages (from pandas) (2022.7)\n",
      "Requirement already satisfied: numpy>=1.21.0 in c:\\users\\vaibhav\\anaconda3\\lib\\site-packages (from pandas) (1.24.3)\n",
      "Requirement already satisfied: bokeh>=1.4.0 in c:\\users\\vaibhav\\anaconda3\\lib\\site-packages (from backtesting) (3.1.1)\n",
      "Requirement already satisfied: contourpy>=1.0.1 in c:\\users\\vaibhav\\anaconda3\\lib\\site-packages (from matplotlib) (1.0.5)\n",
      "Requirement already satisfied: cycler>=0.10 in c:\\users\\vaibhav\\anaconda3\\lib\\site-packages (from matplotlib) (0.11.0)\n",
      "Requirement already satisfied: fonttools>=4.22.0 in c:\\users\\vaibhav\\anaconda3\\lib\\site-packages (from matplotlib) (4.25.0)\n",
      "Requirement already satisfied: kiwisolver>=1.0.1 in c:\\users\\vaibhav\\anaconda3\\lib\\site-packages (from matplotlib) (1.4.4)\n",
      "Requirement already satisfied: packaging>=20.0 in c:\\users\\vaibhav\\anaconda3\\lib\\site-packages (from matplotlib) (23.0)\n",
      "Requirement already satisfied: pillow>=6.2.0 in c:\\users\\vaibhav\\anaconda3\\lib\\site-packages (from matplotlib) (9.4.0)\n",
      "Requirement already satisfied: pyparsing>=2.3.1 in c:\\users\\vaibhav\\anaconda3\\lib\\site-packages (from matplotlib) (3.0.9)\n",
      "Requirement already satisfied: Jinja2>=2.9 in c:\\users\\vaibhav\\anaconda3\\lib\\site-packages (from bokeh>=1.4.0->backtesting) (3.1.2)\n",
      "Requirement already satisfied: PyYAML>=3.10 in c:\\users\\vaibhav\\anaconda3\\lib\\site-packages (from bokeh>=1.4.0->backtesting) (6.0)\n",
      "Requirement already satisfied: tornado>=5.1 in c:\\users\\vaibhav\\anaconda3\\lib\\site-packages (from bokeh>=1.4.0->backtesting) (6.2)\n",
      "Requirement already satisfied: xyzservices>=2021.09.1 in c:\\users\\vaibhav\\anaconda3\\lib\\site-packages (from bokeh>=1.4.0->backtesting) (2022.9.0)\n",
      "Requirement already satisfied: six>=1.5 in c:\\users\\vaibhav\\anaconda3\\lib\\site-packages (from python-dateutil>=2.8.1->pandas) (1.16.0)\n",
      "Requirement already satisfied: MarkupSafe>=2.0 in c:\\users\\vaibhav\\anaconda3\\lib\\site-packages (from Jinja2>=2.9->bokeh>=1.4.0->backtesting) (2.1.1)\n",
      "Building wheels for collected packages: pandas-ta, backtesting\n",
      "  Building wheel for pandas-ta (setup.py): started\n",
      "  Building wheel for pandas-ta (setup.py): finished with status 'done'\n",
      "  Created wheel for pandas-ta: filename=pandas_ta-0.3.14b0-py3-none-any.whl size=218924 sha256=31be98ad26829360e81ab9d5c63335f7d78028ce8adecb2a5ed5f5c2b335801a\n",
      "  Stored in directory: c:\\users\\vaibhav\\appdata\\local\\pip\\cache\\wheels\\7f\\33\\8b\\50b245c5c65433cd8f5cb24ac15d97e5a3db2d41a8b6ae957d\n",
      "  Building wheel for backtesting (setup.py): started\n",
      "  Building wheel for backtesting (setup.py): finished with status 'done'\n",
      "  Created wheel for backtesting: filename=Backtesting-0.3.3-py3-none-any.whl size=173970 sha256=0f2b26dba6c0157d5a8183c4564dc2ee6111d55868c43cdd02d3114938fac94f\n",
      "  Stored in directory: c:\\users\\vaibhav\\appdata\\local\\pip\\cache\\wheels\\2c\\56\\19\\bf7ee5e164aa99a976e3f64841c83b5ae0391c59d9aec011d0\n",
      "Successfully built pandas-ta backtesting\n",
      "Installing collected packages: pandas-ta, backtesting\n",
      "Successfully installed backtesting-0.3.3 pandas-ta-0.3.14b0\n",
      "Note: you may need to restart the kernel to use updated packages.\n"
     ]
    }
   ],
   "source": [
    "pip install pandas pandas-ta backtesting matplotlib"
   ]
  },
  {
   "cell_type": "code",
   "execution_count": 10,
   "id": "14d35439",
   "metadata": {},
   "outputs": [
    {
     "name": "stderr",
     "output_type": "stream",
     "text": [
      "C:\\Users\\Vaibhav\\anaconda3\\Lib\\site-packages\\backtesting\\backtesting.py:1488: UserWarning: Searching for best of 5400 configurations.\n",
      "  output = _optimize_grid()\n"
     ]
    },
    {
     "data": {
      "application/vnd.jupyter.widget-view+json": {
       "model_id": "",
       "version_major": 2,
       "version_minor": 0
      },
      "text/plain": [
       "  0%|          | 0/18 [00:00<?, ?it/s]"
      ]
     },
     "metadata": {},
     "output_type": "display_data"
    },
    {
     "name": "stderr",
     "output_type": "stream",
     "text": [
      "BokehDeprecationWarning: Passing lists of formats for DatetimeTickFormatter scales was deprecated in Bokeh 3.0. Configure a single string format for each scale\n",
      "C:\\Users\\Vaibhav\\anaconda3\\Lib\\site-packages\\backtesting\\_plotting.py:250: UserWarning: DatetimeFormatter scales now only accept a single format. Using the first provided: '%d %b'\n",
      "  formatter=DatetimeTickFormatter(days=['%d %b', '%a %d'],\n",
      "BokehDeprecationWarning: Passing lists of formats for DatetimeTickFormatter scales was deprecated in Bokeh 3.0. Configure a single string format for each scale\n",
      "C:\\Users\\Vaibhav\\anaconda3\\Lib\\site-packages\\backtesting\\_plotting.py:250: UserWarning: DatetimeFormatter scales now only accept a single format. Using the first provided: '%m/%Y'\n",
      "  formatter=DatetimeTickFormatter(days=['%d %b', '%a %d'],\n"
     ]
    },
    {
     "data": {
      "image/png": "[encoded data removed]",
      "text/plain": [
       "<Figure size 640x480 with 1 Axes>"
      ]
     },
     "metadata": {},
     "output_type": "display_data"
    }
   ],
   "source": [
    "import pandas as pd\n",
    "import pandas_ta as ta\n",
    "from backtesting import Backtest, Strategy\n",
    "from backtesting.lib import crossover\n",
    "from backtesting.test import GOOG  \n",
    "import matplotlib.pyplot as plt\n",
    "\n",
    "# Ensure GOOG data has a DatetimeIndex for time-based trading strategies & Sort by datetime to avoid any index issues\n",
    "GOOG.index = pd.to_datetime(GOOG.index)\n",
    "GOOG = GOOG.sort_index()  \n",
    "\n",
    "# EMA-VWAP trading strategy\n",
    "class EMAVWAPStrategy(Strategy):\n",
    "    # Default parameters for EMAs, VWAP, stop-loss, and take-profit\n",
    "    short_ema_period = 8\n",
    "    long_ema_period = 21\n",
    "    trend_ema_period = 55\n",
    "    sl_pct = 0.5  #  Setting Stop-loss percentage\n",
    "    tp_pct = 1.5  # Take-profit percentage\n",
    "\n",
    "    def init(self):\n",
    "        # Calculate EMAs\n",
    "        self.short_ema = self.I(ta.ema, pd.Series(self.data.Close), self.short_ema_period)\n",
    "        self.long_ema = self.I(ta.ema, pd.Series(self.data.Close), self.long_ema_period)\n",
    "        self.trend_ema = self.I(ta.ema, pd.Series(self.data.Close), self.trend_ema_period)\n",
    "\n",
    "        # Calculate VWAP using high, low, close, and volume\n",
    "        self.vwap = self.I(\n",
    "            ta.vwap, \n",
    "            pd.Series(self.data.High, index=self.data.df.index), \n",
    "            pd.Series(self.data.Low, index=self.data.df.index), \n",
    "            pd.Series(self.data.Close, index=self.data.df.index), \n",
    "            pd.Series(self.data.Volume, index=self.data.df.index)\n",
    "        )\n",
    "\n",
    "    def next(self):\n",
    "        price = self.data.Close[-1]\n",
    "\n",
    "        # Close all positions at the end of the trading day\n",
    "        if self.data.index[-1].time() >= pd.Timestamp(\"15:30\").time():\n",
    "            self.position.close()\n",
    "            return\n",
    "\n",
    "        # Determine trade direction based on EMA and VWAP\n",
    "        if price > self.trend_ema[-1]:  # Uptrend\n",
    "            if crossover(self.short_ema, self.long_ema) and price > self.vwap[-1]:\n",
    "                self.buy(sl=(1 - self.sl_pct / 100) * price, tp=(1 + self.tp_pct / 100) * price)\n",
    "        \n",
    "        # Downtrend\n",
    "        elif price < self.trend_ema[-1]: \n",
    "            if crossover(self.long_ema, self.short_ema) and price < self.vwap[-1]:\n",
    "                self.sell(sl=(1 + self.sl_pct / 100) * price, tp=(1 - self.tp_pct / 100) * price)\n",
    "\n",
    "\n",
    "bt = Backtest(GOOG, EMAVWAPStrategy, cash=10_000, commission=.002)\n",
    "stats = bt.optimize(\n",
    "    short_ema_period=range(5, 15, 1),\n",
    "    long_ema_period=range(15, 30, 1),\n",
    "    trend_ema_period=range(50, 70, 5),\n",
    "    sl_pct=[0.5, 1.0, 1.5],  # Optimize stop-loss percentages\n",
    "    tp_pct=[1.5, 2.0, 2.5],  # Optimize take-profit percentages\n",
    "    maximize='Sharpe Ratio',\n",
    "    constraint=lambda param: param.short_ema_period < param.long_ema_period < param.trend_ema_period\n",
    ")\n",
    "\n",
    "\n",
    "bt.plot()\n",
    "\n",
    "plt.plot(stats['_equity_curve']['Equity'])\n",
    "plt.title(\"Equity Curve\")\n",
    "plt.xlabel(\"Time\")\n",
    "plt.ylabel(\"Equity\")\n",
    "plt.show()\n"
   ]
  },
  {
   "cell_type": "code",
   "execution_count": 4,
   "id": "f6fea7ff",
   "metadata": {},
   "outputs": [],
   "source": [
    "\n",
    "GOOG.index = pd.to_datetime(GOOG.index)"
   ]
  },
  {
   "cell_type": "code",
   "execution_count": 12,
   "id": "c3eb9d84",
   "metadata": {},
   "outputs": [
    {
     "name": "stdout",
     "output_type": "stream",
     "text": [
      "Index(['Start', 'End', 'Duration', 'Exposure Time [%]', 'Equity Final [$]',\n",
      "       'Equity Peak [$]', 'Return [%]', 'Buy & Hold Return [%]',\n",
      "       'Return (Ann.) [%]', 'Volatility (Ann.) [%]', 'Sharpe Ratio',\n",
      "       'Sortino Ratio', 'Calmar Ratio', 'Max. Drawdown [%]',\n",
      "       'Avg. Drawdown [%]', 'Max. Drawdown Duration', 'Avg. Drawdown Duration',\n",
      "       '# Trades', 'Win Rate [%]', 'Best Trade [%]', 'Worst Trade [%]',\n",
      "       'Avg. Trade [%]', 'Max. Trade Duration', 'Avg. Trade Duration',\n",
      "       'Profit Factor', 'Expectancy [%]', 'SQN', '_strategy', '_equity_curve',\n",
      "       '_trades'],\n",
      "      dtype='object')\n"
     ]
    }
   ],
   "source": [
    "print(stats.keys())"
   ]
  },
  {
   "cell_type": "code",
   "execution_count": 13,
   "id": "c39b034e",
   "metadata": {},
   "outputs": [
    {
     "name": "stdout",
     "output_type": "stream",
     "text": [
      "Sharpe Ratio: 0.6756413867105485\n",
      "Total Return [%]: 21.510950399999913\n",
      "Max Drawdown [%]: -7.73054425992955\n",
      "Win Rate [%]: 51.724137931034484\n",
      "Total Trades: 29\n",
      "Avg Trade [%]: 0.6851375935917892\n"
     ]
    }
   ],
   "source": [
    "# key performance metrics\n",
    "print(\"Sharpe Ratio:\", stats.get('Sharpe Ratio', 'N/A'))\n",
    "print(\"Total Return [%]:\", stats.get('Return [%]', 'N/A'))\n",
    "print(\"Max Drawdown [%]:\", stats.get('Max. Drawdown [%]', 'N/A'))  \n",
    "print(\"Win Rate [%]:\", stats.get('Win Rate [%]', 'N/A'))\n",
    "print(\"Total Trades:\", stats.get('# Trades', 'N/A'))\n",
    "print(\"Avg Trade [%]:\", stats.get('Avg. Trade [%]', 'N/A'))\n"
   ]
  },
  {
   "cell_type": "code",
   "execution_count": null,
   "id": "2e1da5d9",
   "metadata": {},
   "outputs": [],
   "source": []
  }
 ],
 "metadata": {
  "kernelspec": {
   "display_name": "Python 3 (ipykernel)",
   "language": "python",
   "name": "python3"
  },
  "language_info": {
   "codemirror_mode": {
    "name": "ipython",
    "version": 3
   },
   "file_extension": ".py",
   "mimetype": "text/x-python",
   "name": "python",
   "nbconvert_exporter": "python",
   "pygments_lexer": "ipython3",
   "version": "3.11.3"
  }
 },
 "nbformat": 4,
 "nbformat_minor": 5
}
